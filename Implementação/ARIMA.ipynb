{
 "cells": [
  {
   "cell_type": "code",
   "execution_count": 1,
   "metadata": {},
   "outputs": [],
   "source": [
    "from pmdarima import auto_arima\n",
    "import pandas as pd\n",
    "import numpy as np\n",
    "from datetime import datetime\n",
    "from sklearn.model_selection import train_test_split\n",
    "import statsmodels.api as sm"
   ]
  },
  {
   "cell_type": "code",
   "execution_count": 2,
   "metadata": {},
   "outputs": [],
   "source": [
    "NEW_STEPWISE = False"
   ]
  },
  {
   "cell_type": "code",
   "execution_count": 3,
   "metadata": {},
   "outputs": [],
   "source": [
    "data = pd.read_csv(\"./Dataset/dataOld.csv\")\n",
    "data = data.head(80)"
   ]
  },
  {
   "cell_type": "code",
   "execution_count": 4,
   "metadata": {},
   "outputs": [],
   "source": [
    "teste = data.copy()\n",
    "teste[\"timestamp\"] = teste[\"timestamp\"] / 1000\n",
    "teste[\"timestamp\"] = teste['timestamp'].apply(lambda x: datetime.fromtimestamp(x))\n",
    "teste.reset_index(drop=True, inplace=True)"
   ]
  },
  {
   "cell_type": "code",
   "execution_count": 5,
   "metadata": {},
   "outputs": [
    {
     "data": {
      "text/plain": [
       "'\\n\\nBest model:  ARIMA(4,1,5)(0,0,0)[0]          \\nTotal fit time: 1037.301 seconds\\n\\n'"
      ]
     },
     "execution_count": 5,
     "metadata": {},
     "output_type": "execute_result"
    }
   ],
   "source": [
    "if NEW_STEPWISE:\n",
    "    stepwise_model = auto_arima(teste['price'], trace=True, suppress_warnings=True)\n",
    "    stepwise_model.summary()\n",
    "\n",
    "'''\n",
    "\n",
    "Best model:  ARIMA(4,1,5)(0,0,0)[0]          \n",
    "Total fit time: 1037.301 seconds\n",
    "\n",
    "'''"
   ]
  },
  {
   "cell_type": "code",
   "execution_count": 6,
   "metadata": {},
   "outputs": [
    {
     "name": "stderr",
     "output_type": "stream",
     "text": [
      "/home/mickael/.pyenv/versions/3.11.9/envs/dnnDef/lib/python3.11/site-packages/statsmodels/tsa/base/tsa_model.py:473: ValueWarning: No frequency information was provided, so inferred frequency 15min will be used.\n",
      "  self._init_dates(dates, freq)\n",
      "/home/mickael/.pyenv/versions/3.11.9/envs/dnnDef/lib/python3.11/site-packages/statsmodels/tsa/base/tsa_model.py:473: ValueWarning: No frequency information was provided, so inferred frequency 15min will be used.\n",
      "  self._init_dates(dates, freq)\n",
      "/home/mickael/.pyenv/versions/3.11.9/envs/dnnDef/lib/python3.11/site-packages/statsmodels/tsa/base/tsa_model.py:473: ValueWarning: No frequency information was provided, so inferred frequency 15min will be used.\n",
      "  self._init_dates(dates, freq)\n"
     ]
    },
    {
     "data": {
      "text/html": [
       "<table class=\"simpletable\">\n",
       "<caption>SARIMAX Results</caption>\n",
       "<tr>\n",
       "  <th>Dep. Variable:</th>         <td>price</td>      <th>  No. Observations:  </th>    <td>56</td>   \n",
       "</tr>\n",
       "<tr>\n",
       "  <th>Model:</th>            <td>ARIMA(4, 1, 5)</td>  <th>  Log Likelihood     </th> <td>-196.560</td>\n",
       "</tr>\n",
       "<tr>\n",
       "  <th>Date:</th>            <td>Tue, 16 Jul 2024</td> <th>  AIC                </th>  <td>413.121</td>\n",
       "</tr>\n",
       "<tr>\n",
       "  <th>Time:</th>                <td>09:44:00</td>     <th>  BIC                </th>  <td>433.194</td>\n",
       "</tr>\n",
       "<tr>\n",
       "  <th>Sample:</th>             <td>01-01-2020</td>    <th>  HQIC               </th>  <td>420.883</td>\n",
       "</tr>\n",
       "<tr>\n",
       "  <th></th>                   <td>- 01-01-2020</td>   <th>                     </th>     <td> </td>   \n",
       "</tr>\n",
       "<tr>\n",
       "  <th>Covariance Type:</th>        <td>opg</td>       <th>                     </th>     <td> </td>   \n",
       "</tr>\n",
       "</table>\n",
       "<table class=\"simpletable\">\n",
       "<tr>\n",
       "     <td></td>       <th>coef</th>     <th>std err</th>      <th>z</th>      <th>P>|z|</th>  <th>[0.025</th>    <th>0.975]</th>  \n",
       "</tr>\n",
       "<tr>\n",
       "  <th>ar.L1</th>  <td>   -0.7591</td> <td>    0.403</td> <td>   -1.886</td> <td> 0.059</td> <td>   -1.548</td> <td>    0.030</td>\n",
       "</tr>\n",
       "<tr>\n",
       "  <th>ar.L2</th>  <td>   -0.4480</td> <td>    0.476</td> <td>   -0.941</td> <td> 0.347</td> <td>   -1.381</td> <td>    0.485</td>\n",
       "</tr>\n",
       "<tr>\n",
       "  <th>ar.L3</th>  <td>   -0.7433</td> <td>    0.406</td> <td>   -1.831</td> <td> 0.067</td> <td>   -1.539</td> <td>    0.052</td>\n",
       "</tr>\n",
       "<tr>\n",
       "  <th>ar.L4</th>  <td>   -0.7401</td> <td>    0.445</td> <td>   -1.662</td> <td> 0.096</td> <td>   -1.613</td> <td>    0.133</td>\n",
       "</tr>\n",
       "<tr>\n",
       "  <th>ma.L1</th>  <td>    0.4147</td> <td>    0.579</td> <td>    0.716</td> <td> 0.474</td> <td>   -0.720</td> <td>    1.549</td>\n",
       "</tr>\n",
       "<tr>\n",
       "  <th>ma.L2</th>  <td>    0.0777</td> <td>    0.518</td> <td>    0.150</td> <td> 0.881</td> <td>   -0.938</td> <td>    1.093</td>\n",
       "</tr>\n",
       "<tr>\n",
       "  <th>ma.L3</th>  <td>    0.6136</td> <td>    0.758</td> <td>    0.810</td> <td> 0.418</td> <td>   -0.871</td> <td>    2.098</td>\n",
       "</tr>\n",
       "<tr>\n",
       "  <th>ma.L4</th>  <td>    0.7606</td> <td>    0.610</td> <td>    1.247</td> <td> 0.212</td> <td>   -0.435</td> <td>    1.956</td>\n",
       "</tr>\n",
       "<tr>\n",
       "  <th>ma.L5</th>  <td>   -0.2211</td> <td>    0.392</td> <td>   -0.564</td> <td> 0.573</td> <td>   -0.989</td> <td>    0.547</td>\n",
       "</tr>\n",
       "<tr>\n",
       "  <th>sigma2</th> <td>   69.7179</td> <td>   48.639</td> <td>    1.433</td> <td> 0.152</td> <td>  -25.613</td> <td>  165.049</td>\n",
       "</tr>\n",
       "</table>\n",
       "<table class=\"simpletable\">\n",
       "<tr>\n",
       "  <th>Ljung-Box (L1) (Q):</th>     <td>0.00</td> <th>  Jarque-Bera (JB):  </th> <td>15.93</td>\n",
       "</tr>\n",
       "<tr>\n",
       "  <th>Prob(Q):</th>                <td>1.00</td> <th>  Prob(JB):          </th> <td>0.00</td> \n",
       "</tr>\n",
       "<tr>\n",
       "  <th>Heteroskedasticity (H):</th> <td>0.77</td> <th>  Skew:              </th> <td>-1.01</td>\n",
       "</tr>\n",
       "<tr>\n",
       "  <th>Prob(H) (two-sided):</th>    <td>0.58</td> <th>  Kurtosis:          </th> <td>4.69</td> \n",
       "</tr>\n",
       "</table><br/><br/>Warnings:<br/>[1] Covariance matrix calculated using the outer product of gradients (complex-step)."
      ],
      "text/latex": [
       "\\begin{center}\n",
       "\\begin{tabular}{lclc}\n",
       "\\toprule\n",
       "\\textbf{Dep. Variable:}          &      price       & \\textbf{  No. Observations:  } &     56      \\\\\n",
       "\\textbf{Model:}                  &  ARIMA(4, 1, 5)  & \\textbf{  Log Likelihood     } &  -196.560   \\\\\n",
       "\\textbf{Date:}                   & Tue, 16 Jul 2024 & \\textbf{  AIC                } &  413.121    \\\\\n",
       "\\textbf{Time:}                   &     09:44:00     & \\textbf{  BIC                } &  433.194    \\\\\n",
       "\\textbf{Sample:}                 &    01-01-2020    & \\textbf{  HQIC               } &  420.883    \\\\\n",
       "\\textbf{}                        &   - 01-01-2020   & \\textbf{                     } &             \\\\\n",
       "\\textbf{Covariance Type:}        &       opg        & \\textbf{                     } &             \\\\\n",
       "\\bottomrule\n",
       "\\end{tabular}\n",
       "\\begin{tabular}{lcccccc}\n",
       "                & \\textbf{coef} & \\textbf{std err} & \\textbf{z} & \\textbf{P$> |$z$|$} & \\textbf{[0.025} & \\textbf{0.975]}  \\\\\n",
       "\\midrule\n",
       "\\textbf{ar.L1}  &      -0.7591  &        0.403     &    -1.886  &         0.059        &       -1.548    &        0.030     \\\\\n",
       "\\textbf{ar.L2}  &      -0.4480  &        0.476     &    -0.941  &         0.347        &       -1.381    &        0.485     \\\\\n",
       "\\textbf{ar.L3}  &      -0.7433  &        0.406     &    -1.831  &         0.067        &       -1.539    &        0.052     \\\\\n",
       "\\textbf{ar.L4}  &      -0.7401  &        0.445     &    -1.662  &         0.096        &       -1.613    &        0.133     \\\\\n",
       "\\textbf{ma.L1}  &       0.4147  &        0.579     &     0.716  &         0.474        &       -0.720    &        1.549     \\\\\n",
       "\\textbf{ma.L2}  &       0.0777  &        0.518     &     0.150  &         0.881        &       -0.938    &        1.093     \\\\\n",
       "\\textbf{ma.L3}  &       0.6136  &        0.758     &     0.810  &         0.418        &       -0.871    &        2.098     \\\\\n",
       "\\textbf{ma.L4}  &       0.7606  &        0.610     &     1.247  &         0.212        &       -0.435    &        1.956     \\\\\n",
       "\\textbf{ma.L5}  &      -0.2211  &        0.392     &    -0.564  &         0.573        &       -0.989    &        0.547     \\\\\n",
       "\\textbf{sigma2} &      69.7179  &       48.639     &     1.433  &         0.152        &      -25.613    &      165.049     \\\\\n",
       "\\bottomrule\n",
       "\\end{tabular}\n",
       "\\begin{tabular}{lclc}\n",
       "\\textbf{Ljung-Box (L1) (Q):}     & 0.00 & \\textbf{  Jarque-Bera (JB):  } & 15.93  \\\\\n",
       "\\textbf{Prob(Q):}                & 1.00 & \\textbf{  Prob(JB):          } &  0.00  \\\\\n",
       "\\textbf{Heteroskedasticity (H):} & 0.77 & \\textbf{  Skew:              } & -1.01  \\\\\n",
       "\\textbf{Prob(H) (two-sided):}    & 0.58 & \\textbf{  Kurtosis:          } &  4.69  \\\\\n",
       "\\bottomrule\n",
       "\\end{tabular}\n",
       "%\\caption{SARIMAX Results}\n",
       "\\end{center}\n",
       "\n",
       "Warnings: \\newline\n",
       " [1] Covariance matrix calculated using the outer product of gradients (complex-step)."
      ],
      "text/plain": [
       "<class 'statsmodels.iolib.summary.Summary'>\n",
       "\"\"\"\n",
       "                               SARIMAX Results                                \n",
       "==============================================================================\n",
       "Dep. Variable:                  price   No. Observations:                   56\n",
       "Model:                 ARIMA(4, 1, 5)   Log Likelihood                -196.560\n",
       "Date:                Tue, 16 Jul 2024   AIC                            413.121\n",
       "Time:                        09:44:00   BIC                            433.194\n",
       "Sample:                    01-01-2020   HQIC                           420.883\n",
       "                         - 01-01-2020                                         \n",
       "Covariance Type:                  opg                                         \n",
       "==============================================================================\n",
       "                 coef    std err          z      P>|z|      [0.025      0.975]\n",
       "------------------------------------------------------------------------------\n",
       "ar.L1         -0.7591      0.403     -1.886      0.059      -1.548       0.030\n",
       "ar.L2         -0.4480      0.476     -0.941      0.347      -1.381       0.485\n",
       "ar.L3         -0.7433      0.406     -1.831      0.067      -1.539       0.052\n",
       "ar.L4         -0.7401      0.445     -1.662      0.096      -1.613       0.133\n",
       "ma.L1          0.4147      0.579      0.716      0.474      -0.720       1.549\n",
       "ma.L2          0.0777      0.518      0.150      0.881      -0.938       1.093\n",
       "ma.L3          0.6136      0.758      0.810      0.418      -0.871       2.098\n",
       "ma.L4          0.7606      0.610      1.247      0.212      -0.435       1.956\n",
       "ma.L5         -0.2211      0.392     -0.564      0.573      -0.989       0.547\n",
       "sigma2        69.7179     48.639      1.433      0.152     -25.613     165.049\n",
       "===================================================================================\n",
       "Ljung-Box (L1) (Q):                   0.00   Jarque-Bera (JB):                15.93\n",
       "Prob(Q):                              1.00   Prob(JB):                         0.00\n",
       "Heteroskedasticity (H):               0.77   Skew:                            -1.01\n",
       "Prob(H) (two-sided):                  0.58   Kurtosis:                         4.69\n",
       "===================================================================================\n",
       "\n",
       "Warnings:\n",
       "[1] Covariance matrix calculated using the outer product of gradients (complex-step).\n",
       "\"\"\""
      ]
     },
     "execution_count": 6,
     "metadata": {},
     "output_type": "execute_result"
    }
   ],
   "source": [
    "teste = teste[['timestamp','price']]\n",
    "teste = teste.set_index('timestamp')\n",
    "loki,doki = train_test_split(teste, test_size=0.3, shuffle=False)\n",
    "\n",
    "model = sm.tsa.ARIMA(loki, order=(4,1,5))\n",
    "model = model.fit()\n",
    "model.summary()"
   ]
  },
  {
   "cell_type": "code",
   "execution_count": 7,
   "metadata": {},
   "outputs": [
    {
     "name": "stdout",
     "output_type": "stream",
     "text": [
      "2020-01-01 14:00:00    7240.393874\n",
      "2020-01-01 14:15:00    7229.988713\n",
      "2020-01-01 14:30:00    7229.464485\n",
      "2020-01-01 14:45:00    7236.265345\n",
      "2020-01-01 15:00:00    7239.818743\n",
      "2020-01-01 15:15:00    7242.164690\n",
      "2020-01-01 15:30:00    7234.124669\n",
      "2020-01-01 15:45:00    7231.501969\n",
      "2020-01-01 16:00:00    7232.721482\n",
      "2020-01-01 16:15:00    7237.210992\n",
      "2020-01-01 16:30:00    7241.156519\n",
      "2020-01-01 16:45:00    7237.184640\n",
      "2020-01-01 17:00:00    7234.192092\n",
      "2020-01-01 17:15:00    7231.987839\n",
      "2020-01-01 17:30:00    7235.034167\n",
      "2020-01-01 17:45:00    7238.873336\n",
      "2020-01-01 18:00:00    7238.447460\n",
      "2020-01-01 18:15:00    7236.417530\n",
      "2020-01-01 18:30:00    7233.040944\n",
      "2020-01-01 18:45:00    7233.988755\n",
      "2020-01-01 19:00:00    7236.606238\n",
      "2020-01-01 19:15:00    7238.206928\n",
      "2020-01-01 19:30:00    7237.613566\n",
      "2020-01-01 19:45:00    7234.699709\n",
      "Freq: 15min, Name: predicted_mean, dtype: float64\n"
     ]
    },
    {
     "name": "stderr",
     "output_type": "stream",
     "text": [
      "/home/mickael/.pyenv/versions/3.11.9/envs/dnnDef/lib/python3.11/site-packages/statsmodels/tsa/statespace/representation.py:374: FutureWarning: Unknown keyword arguments: dict_keys(['typ']).Passing unknown keyword arguments will raise a TypeError beginning in version 0.15.\n",
      "  warnings.warn(msg, FutureWarning)\n"
     ]
    }
   ],
   "source": [
    "start = len(loki)\n",
    "end = len(loki) + len(doki) - 1\n",
    "predictions = model.predict(start=start, end=end, typ='levels')\n",
    "print(predictions)"
   ]
  },
  {
   "cell_type": "code",
   "execution_count": 8,
   "metadata": {},
   "outputs": [
    {
     "data": {
      "text/plain": [
       "<Axes: xlabel='timestamp'>"
      ]
     },
     "execution_count": 8,
     "metadata": {},
     "output_type": "execute_result"
    },
    {
     "data": {
      "image/png": "[encoded data removed]",
      "text/plain": [
       "<Figure size 640x480 with 1 Axes>"
      ]
     },
     "metadata": {},
     "output_type": "display_data"
    }
   ],
   "source": [
    "import matplotlib.pyplot as plt\n",
    "\n",
    "# Criação de uma figura e eixos\n",
    "fig, ax = plt.subplots()\n",
    "\n",
    "# Plotar 'predictions' no mesmo eixo\n",
    "predictions.plot(ax=ax, legend=True, label='Predictions')\n",
    "\n",
    "# Plotar 'doki' no mesmo eixo\n",
    "teste.plot(ax=ax, legend=True, label='Doki')"
   ]
  }
 ],
 "metadata": {
  "kernelspec": {
   "display_name": "dnnDef",
   "language": "python",
   "name": "python3"
  },
  "language_info": {
   "codemirror_mode": {
    "name": "ipython",
    "version": 3
   },
   "file_extension": ".py",
   "mimetype": "text/x-python",
   "name": "python",
   "nbconvert_exporter": "python",
   "pygments_lexer": "ipython3",
   "version": "3.11.9"
  }
 },
 "nbformat": 4,
 "nbformat_minor": 2
}
