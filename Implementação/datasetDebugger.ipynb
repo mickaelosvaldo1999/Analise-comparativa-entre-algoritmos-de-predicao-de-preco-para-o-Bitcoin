{
 "cells": [
  {
   "cell_type": "code",
   "execution_count": 21,
   "metadata": {},
   "outputs": [],
   "source": [
    "import pandas as pd\n",
    "import numpy as np\n",
    "from datetime import datetime"
   ]
  },
  {
   "cell_type": "code",
   "execution_count": 22,
   "metadata": {},
   "outputs": [
    {
     "data": {
      "text/plain": [
       "(26304, 3)"
      ]
     },
     "execution_count": 22,
     "metadata": {},
     "output_type": "execute_result"
    }
   ],
   "source": [
    "data = pd.read_csv(\"./Dataset/datadebug.csv\")\n",
    "data = data.head(26304)\n",
    "data[\"timestamp\"] = data[\"timestamp\"] / 1000\n",
    "data[\"timestamp\"] = data['timestamp'].apply(lambda x: datetime.fromtimestamp(x))\n",
    "data.reset_index(drop=True, inplace=True)\n",
    "data = data.set_index('timestamp')\n",
    "data.index = pd.to_datetime(data.index)\n",
    "data.shape"
   ]
  },
  {
   "cell_type": "code",
   "execution_count": null,
   "metadata": {},
   "outputs": [],
   "source": []
  },
  {
   "cell_type": "markdown",
   "metadata": {},
   "source": [
    "### removendo duplicatas"
   ]
  },
  {
   "cell_type": "code",
   "execution_count": 23,
   "metadata": {},
   "outputs": [
    {
     "name": "stdout",
     "output_type": "stream",
     "text": [
      "(26304, 3)\n",
      "Timestamps duplicados:\n",
      "timestamp\n",
      "2020-05-05 01:45:00    2\n",
      "2020-05-05 00:00:00    2\n",
      "2020-02-22 06:15:00    2\n",
      "2020-02-22 06:00:00    2\n",
      "2020-02-22 05:45:00    2\n",
      "2020-02-22 05:30:00    2\n",
      "2020-02-22 05:15:00    2\n",
      "2020-02-22 05:00:00    2\n",
      "2020-02-22 04:45:00    2\n",
      "2020-02-22 04:30:00    2\n",
      "2020-02-22 04:15:00    2\n",
      "2020-02-22 04:00:00    2\n",
      "2020-02-22 03:45:00    2\n",
      "2020-02-22 03:30:00    2\n",
      "2020-02-22 03:15:00    2\n",
      "2020-02-22 03:00:00    2\n",
      "2020-02-22 02:45:00    2\n",
      "2020-02-22 02:30:00    2\n",
      "2020-02-22 02:00:00    2\n",
      "2020-02-22 06:30:00    2\n",
      "2020-02-22 06:45:00    2\n",
      "2020-02-22 07:00:00    2\n",
      "2020-03-13 23:45:00    2\n",
      "2020-03-13 22:00:00    2\n",
      "2020-03-13 22:15:00    2\n",
      "2020-03-13 22:30:00    2\n",
      "2020-03-13 22:45:00    2\n",
      "2020-03-13 23:00:00    2\n",
      "2020-03-13 23:15:00    2\n",
      "2020-03-13 23:30:00    2\n",
      "2020-05-05 02:15:00    2\n",
      "2020-02-22 07:15:00    2\n",
      "2020-05-05 02:00:00    2\n",
      "2020-05-05 01:30:00    2\n",
      "2020-05-05 01:15:00    2\n",
      "2020-05-05 01:00:00    2\n",
      "2020-05-05 00:45:00    2\n",
      "2020-05-05 00:30:00    2\n",
      "2020-02-22 07:30:00    2\n",
      "2020-05-05 00:15:00    2\n",
      "2020-02-22 02:15:00    2\n",
      "2020-07-06 14:15:00    2\n",
      "2020-07-06 12:30:00    2\n",
      "2020-07-06 13:00:00    2\n",
      "2020-07-06 13:15:00    2\n",
      "2020-07-06 13:30:00    2\n",
      "2020-07-06 13:45:00    2\n",
      "2020-07-06 14:00:00    2\n",
      "2020-07-06 12:15:00    2\n",
      "2020-07-06 14:30:00    2\n",
      "2020-07-06 14:45:00    2\n",
      "2020-07-06 15:00:00    2\n",
      "2020-07-06 15:15:00    2\n",
      "2020-07-06 12:00:00    2\n",
      "2020-07-06 12:45:00    2\n",
      "2020-02-11 16:45:00    2\n",
      "2020-02-11 16:30:00    2\n",
      "2020-02-11 16:00:00    2\n",
      "2020-02-11 16:15:00    2\n",
      "Name: count, dtype: int64\n",
      "(59,)\n",
      "(26245, 3)\n",
      "Timestamps duplicados:\n",
      "Series([], Name: count, dtype: int64)\n"
     ]
    }
   ],
   "source": [
    "print(data.shape)\n",
    "index_counts = data.index.value_counts()\n",
    "duplicates = index_counts[index_counts > 1]\n",
    "print(\"Timestamps duplicados:\")\n",
    "print(duplicates)\n",
    "print(duplicates.shape)\n",
    "\n",
    "data = data[~data.index.duplicated(keep='first')]\n",
    "\n",
    "print(data.shape)\n",
    "index_counts = data.index.value_counts()\n",
    "duplicates = index_counts[index_counts > 1]\n",
    "print(\"Timestamps duplicados:\")\n",
    "print(duplicates)"
   ]
  },
  {
   "cell_type": "code",
   "execution_count": 24,
   "metadata": {},
   "outputs": [
    {
     "name": "stdout",
     "output_type": "stream",
     "text": [
      "                           volume  trades    price\n",
      "timestamp                                         \n",
      "2020-02-21 23:00:00  2.547130e+06    4252  9645.40\n",
      "2020-02-21 23:15:00  2.066688e+06    3099  9644.61\n",
      "2020-02-21 23:30:00  2.291746e+06    3545  9648.00\n",
      "2020-02-21 23:45:00  2.312096e+06    2887  9646.59\n",
      "2020-02-22 00:00:00  1.466617e+06    2492  9664.57\n",
      "...                           ...     ...      ...\n",
      "2020-02-22 22:45:00  1.651268e+06    2662  9666.49\n",
      "2020-02-22 23:00:00  1.439637e+06    2103  9666.48\n",
      "2020-02-22 23:15:00  1.718718e+06    2418  9672.03\n",
      "2020-02-22 23:30:00  1.256793e+06    2543  9674.71\n",
      "2020-02-22 23:45:00  1.137235e+06    1896  9680.54\n",
      "\n",
      "[100 rows x 3 columns]\n"
     ]
    }
   ],
   "source": [
    "print(data.loc['2020-02-21 23:00:00':].head(100))"
   ]
  },
  {
   "cell_type": "code",
   "execution_count": 25,
   "metadata": {},
   "outputs": [
    {
     "name": "stdout",
     "output_type": "stream",
     "text": [
      "                           volume  trades     price\n",
      "timestamp                                          \n",
      "2020-02-08 12:00:00  3.517926e+06    4404   9833.57\n",
      "2020-02-08 12:15:00  2.945981e+06    3761   9829.92\n",
      "2020-02-08 12:30:00  2.511891e+06    3898   9847.26\n",
      "2020-02-08 12:45:00  3.235450e+06    4870   9829.47\n",
      "2020-02-08 13:00:00  6.458484e+06    6427   9834.28\n",
      "...                           ...     ...       ...\n",
      "2020-02-09 12:45:00  5.691619e+06    6357  10097.10\n",
      "2020-02-09 13:00:00  6.370635e+06    7200  10124.08\n",
      "2020-02-09 13:15:00  4.115604e+06    5001  10086.65\n",
      "2020-02-09 13:30:00  4.666957e+06    5100  10100.04\n",
      "2020-02-09 13:45:00  4.320646e+06    5304  10112.03\n",
      "\n",
      "[100 rows x 3 columns]\n"
     ]
    }
   ],
   "source": [
    "print(data.loc['2020-02-08 12:00:00':].head(100))"
   ]
  },
  {
   "cell_type": "markdown",
   "metadata": {},
   "source": [
    "### Dados faltantes"
   ]
  },
  {
   "cell_type": "code",
   "execution_count": 26,
   "metadata": {},
   "outputs": [
    {
     "name": "stdout",
     "output_type": "stream",
     "text": [
      "59\n",
      "Empty DataFrame\n",
      "Columns: [volume, trades, price]\n",
      "Index: []\n"
     ]
    }
   ],
   "source": [
    "data = data.asfreq('15min')\n",
    "nan_data = data[data.isna().any(axis=1)]\n",
    "#print(nan_data)\n",
    "null_counts = data['price'].isnull().sum()\n",
    "print(null_counts)\n",
    "\n",
    "data = data.ffill()\n",
    "\n",
    "data = data.asfreq('15min')\n",
    "nan_data = data[data.isna().any(axis=1)]\n",
    "print(nan_data)\n",
    "null_counts = data['price'].isnull().sum()\n",
    "print(null_counts)"
   ]
  },
  {
   "cell_type": "code",
   "execution_count": 27,
   "metadata": {},
   "outputs": [
    {
     "data": {
      "text/html": [
       "<div>\n",
       "<style scoped>\n",
       "    .dataframe tbody tr th:only-of-type {\n",
       "        vertical-align: middle;\n",
       "    }\n",
       "\n",
       "    .dataframe tbody tr th {\n",
       "        vertical-align: top;\n",
       "    }\n",
       "\n",
       "    .dataframe thead th {\n",
       "        text-align: right;\n",
       "    }\n",
       "</style>\n",
       "<table border=\"1\" class=\"dataframe\">\n",
       "  <thead>\n",
       "    <tr style=\"text-align: right;\">\n",
       "      <th></th>\n",
       "      <th>volume</th>\n",
       "      <th>trades</th>\n",
       "      <th>price</th>\n",
       "    </tr>\n",
       "    <tr>\n",
       "      <th>timestamp</th>\n",
       "      <th></th>\n",
       "      <th></th>\n",
       "      <th></th>\n",
       "    </tr>\n",
       "  </thead>\n",
       "  <tbody>\n",
       "    <tr>\n",
       "      <th>2020-01-01 00:00:00</th>\n",
       "      <td>1.959652e+06</td>\n",
       "      <td>2811.0</td>\n",
       "      <td>7228.50</td>\n",
       "    </tr>\n",
       "    <tr>\n",
       "      <th>2020-01-01 00:15:00</th>\n",
       "      <td>1.225410e+06</td>\n",
       "      <td>1897.0</td>\n",
       "      <td>7237.15</td>\n",
       "    </tr>\n",
       "    <tr>\n",
       "      <th>2020-01-01 00:30:00</th>\n",
       "      <td>1.469870e+06</td>\n",
       "      <td>2163.0</td>\n",
       "      <td>7221.27</td>\n",
       "    </tr>\n",
       "    <tr>\n",
       "      <th>2020-01-01 00:45:00</th>\n",
       "      <td>1.012436e+06</td>\n",
       "      <td>1466.0</td>\n",
       "      <td>7225.01</td>\n",
       "    </tr>\n",
       "    <tr>\n",
       "      <th>2020-01-01 01:00:00</th>\n",
       "      <td>1.102373e+06</td>\n",
       "      <td>1985.0</td>\n",
       "      <td>7219.09</td>\n",
       "    </tr>\n",
       "    <tr>\n",
       "      <th>...</th>\n",
       "      <td>...</td>\n",
       "      <td>...</td>\n",
       "      <td>...</td>\n",
       "    </tr>\n",
       "    <tr>\n",
       "      <th>2020-09-30 22:45:00</th>\n",
       "      <td>7.691178e+06</td>\n",
       "      <td>7530.0</td>\n",
       "      <td>10838.88</td>\n",
       "    </tr>\n",
       "    <tr>\n",
       "      <th>2020-09-30 23:00:00</th>\n",
       "      <td>6.680208e+06</td>\n",
       "      <td>7136.0</td>\n",
       "      <td>10819.73</td>\n",
       "    </tr>\n",
       "    <tr>\n",
       "      <th>2020-09-30 23:15:00</th>\n",
       "      <td>2.736092e+06</td>\n",
       "      <td>3947.0</td>\n",
       "      <td>10814.56</td>\n",
       "    </tr>\n",
       "    <tr>\n",
       "      <th>2020-09-30 23:30:00</th>\n",
       "      <td>2.167547e+06</td>\n",
       "      <td>3671.0</td>\n",
       "      <td>10828.42</td>\n",
       "    </tr>\n",
       "    <tr>\n",
       "      <th>2020-09-30 23:45:00</th>\n",
       "      <td>2.148491e+06</td>\n",
       "      <td>3595.0</td>\n",
       "      <td>10817.14</td>\n",
       "    </tr>\n",
       "  </tbody>\n",
       "</table>\n",
       "<p>26304 rows × 3 columns</p>\n",
       "</div>"
      ],
      "text/plain": [
       "                           volume  trades     price\n",
       "timestamp                                          \n",
       "2020-01-01 00:00:00  1.959652e+06  2811.0   7228.50\n",
       "2020-01-01 00:15:00  1.225410e+06  1897.0   7237.15\n",
       "2020-01-01 00:30:00  1.469870e+06  2163.0   7221.27\n",
       "2020-01-01 00:45:00  1.012436e+06  1466.0   7225.01\n",
       "2020-01-01 01:00:00  1.102373e+06  1985.0   7219.09\n",
       "...                           ...     ...       ...\n",
       "2020-09-30 22:45:00  7.691178e+06  7530.0  10838.88\n",
       "2020-09-30 23:00:00  6.680208e+06  7136.0  10819.73\n",
       "2020-09-30 23:15:00  2.736092e+06  3947.0  10814.56\n",
       "2020-09-30 23:30:00  2.167547e+06  3671.0  10828.42\n",
       "2020-09-30 23:45:00  2.148491e+06  3595.0  10817.14\n",
       "\n",
       "[26304 rows x 3 columns]"
      ]
     },
     "execution_count": 27,
     "metadata": {},
     "output_type": "execute_result"
    }
   ],
   "source": [
    "data"
   ]
  },
  {
   "cell_type": "code",
   "execution_count": 28,
   "metadata": {},
   "outputs": [],
   "source": [
    "data.to_csv(\"dataDebug.csv\")"
   ]
  },
  {
   "cell_type": "code",
   "execution_count": 29,
   "metadata": {},
   "outputs": [
    {
     "data": {
      "text/plain": [
       "1608864300000000000"
      ]
     },
     "execution_count": 29,
     "metadata": {},
     "output_type": "execute_result"
    }
   ],
   "source": [
    "timestamp = pd.to_datetime(\"2020-12-25 02:45:00\").value\n",
    "timestamp"
   ]
  },
  {
   "cell_type": "markdown",
   "metadata": {},
   "source": [
    "### Tem dado faltando na Binance?"
   ]
  },
  {
   "cell_type": "code",
   "execution_count": 30,
   "metadata": {},
   "outputs": [
    {
     "name": "stdout",
     "output_type": "stream",
     "text": [
      "No data available for this timestamp.\n"
     ]
    }
   ],
   "source": [
    "import requests\n",
    "\n",
    "symbol = \"BTCUSDT\"\n",
    "interval = \"15m\"\n",
    "timestamp = 1608864300000000000 \n",
    "\n",
    "url = f\"https://api.binance.com/api/v1/klines\"\n",
    "\n",
    "params = {\n",
    "    \"symbol\": symbol,\n",
    "    \"interval\": interval,\n",
    "    \"startTime\": timestamp,\n",
    "    \"endTime\": timestamp + 900000,  # 15 minutos após o timestamp\n",
    "    \"limit\": 1\n",
    "}\n",
    "response = requests.get(url, params=params)\n",
    "\n",
    "if response.status_code == 200:\n",
    "    data = response.json()\n",
    "    if data:\n",
    "        \n",
    "        o_time = pd.to_datetime(data[0][0], unit='ms')\n",
    "        o_price = data[0][1]\n",
    "        c_time = pd.to_datetime(data[0][6], unit='ms')\n",
    "        c_price = data[0][4]\n",
    "        \n",
    "        print(f\"Open Time: {o_time}, Open Price: {o_price}\")\n",
    "        print(f\"Close Time: {c_time}, Close Price: {c_price}\")\n",
    "    else:\n",
    "        print(\"No data available for this timestamp.\")\n",
    "else:\n",
    "    print(\"Failed to fetch data from Binance.\")\n"
   ]
  }
 ],
 "metadata": {
  "kernelspec": {
   "display_name": "dnnDef",
   "language": "python",
   "name": "python3"
  },
  "language_info": {
   "codemirror_mode": {
    "name": "ipython",
    "version": 3
   },
   "file_extension": ".py",
   "mimetype": "text/x-python",
   "name": "python",
   "nbconvert_exporter": "python",
   "pygments_lexer": "ipython3",
   "version": "3.11.9"
  }
 },
 "nbformat": 4,
 "nbformat_minor": 2
}
