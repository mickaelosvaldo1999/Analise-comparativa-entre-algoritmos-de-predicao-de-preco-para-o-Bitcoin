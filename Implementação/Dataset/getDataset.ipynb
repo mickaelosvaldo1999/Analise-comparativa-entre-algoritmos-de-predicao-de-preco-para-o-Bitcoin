{
 "cells": [
  {
   "attachments": {},
   "cell_type": "markdown",
   "metadata": {},
   "source": [
    "#### Binance data scrapping using BTools\n",
    "##### Author: Mickael de Oliveira\n",
    "###### Example of BTools for easily acess to exchanges APIs\n",
    "###### See more in: TODO"
   ]
  },
  {
   "attachments": {},
   "cell_type": "markdown",
   "metadata": {},
   "source": [
    "#### Importing libs"
   ]
  },
  {
   "cell_type": "code",
   "execution_count": 7,
   "metadata": {},
   "outputs": [],
   "source": [
    "from BTools.chart import getCandlestick\n",
    "from BTools.BTime import getTime\n",
    "import pandas as pd"
   ]
  },
  {
   "attachments": {},
   "cell_type": "markdown",
   "metadata": {},
   "source": [
    "#### Constants section"
   ]
  },
  {
   "cell_type": "code",
   "execution_count": 8,
   "metadata": {},
   "outputs": [],
   "source": [
    "TIMESTART = 1577847600000\n",
    "TIMEEND = 1609470000000\n",
    "\n",
    "INTERVAL = \"15m\"\n",
    "DEFAULTPAIR = \"BTCUSDT\""
   ]
  },
  {
   "attachments": {},
   "cell_type": "markdown",
   "metadata": {},
   "source": [
    "#### Creating base dataframe with bitcoin price "
   ]
  },
  {
   "cell_type": "code",
   "execution_count": 9,
   "metadata": {},
   "outputs": [
    {
     "name": "stdout",
     "output_type": "stream",
     "text": [
      "Total candles: 35136.0\n",
      "Total chunks: 36\n"
     ]
    },
    {
     "data": {
      "text/html": [
       "<div>\n",
       "<style scoped>\n",
       "    .dataframe tbody tr th:only-of-type {\n",
       "        vertical-align: middle;\n",
       "    }\n",
       "\n",
       "    .dataframe tbody tr th {\n",
       "        vertical-align: top;\n",
       "    }\n",
       "\n",
       "    .dataframe thead th {\n",
       "        text-align: right;\n",
       "    }\n",
       "</style>\n",
       "<table border=\"1\" class=\"dataframe\">\n",
       "  <thead>\n",
       "    <tr style=\"text-align: right;\">\n",
       "      <th></th>\n",
       "      <th>timestamp</th>\n",
       "      <th>volume</th>\n",
       "      <th>trades</th>\n",
       "      <th>price</th>\n",
       "    </tr>\n",
       "  </thead>\n",
       "  <tbody>\n",
       "    <tr>\n",
       "      <th>0</th>\n",
       "      <td>1577847600000</td>\n",
       "      <td>1.959652e+06</td>\n",
       "      <td>2811</td>\n",
       "      <td>7228.50</td>\n",
       "    </tr>\n",
       "    <tr>\n",
       "      <th>1</th>\n",
       "      <td>1577848500000</td>\n",
       "      <td>1.225410e+06</td>\n",
       "      <td>1897</td>\n",
       "      <td>7237.15</td>\n",
       "    </tr>\n",
       "    <tr>\n",
       "      <th>2</th>\n",
       "      <td>1577849400000</td>\n",
       "      <td>1.469870e+06</td>\n",
       "      <td>2163</td>\n",
       "      <td>7221.27</td>\n",
       "    </tr>\n",
       "    <tr>\n",
       "      <th>3</th>\n",
       "      <td>1577850300000</td>\n",
       "      <td>1.012436e+06</td>\n",
       "      <td>1466</td>\n",
       "      <td>7225.01</td>\n",
       "    </tr>\n",
       "    <tr>\n",
       "      <th>4</th>\n",
       "      <td>1577851200000</td>\n",
       "      <td>1.102373e+06</td>\n",
       "      <td>1985</td>\n",
       "      <td>7219.09</td>\n",
       "    </tr>\n",
       "    <tr>\n",
       "      <th>...</th>\n",
       "      <td>...</td>\n",
       "      <td>...</td>\n",
       "      <td>...</td>\n",
       "      <td>...</td>\n",
       "    </tr>\n",
       "    <tr>\n",
       "      <th>35131</th>\n",
       "      <td>1609465500000</td>\n",
       "      <td>1.821529e+07</td>\n",
       "      <td>16344</td>\n",
       "      <td>29409.99</td>\n",
       "    </tr>\n",
       "    <tr>\n",
       "      <th>35132</th>\n",
       "      <td>1609466400000</td>\n",
       "      <td>2.177558e+07</td>\n",
       "      <td>16200</td>\n",
       "      <td>29248.69</td>\n",
       "    </tr>\n",
       "    <tr>\n",
       "      <th>35133</th>\n",
       "      <td>1609467300000</td>\n",
       "      <td>1.474442e+07</td>\n",
       "      <td>13738</td>\n",
       "      <td>29298.86</td>\n",
       "    </tr>\n",
       "    <tr>\n",
       "      <th>35134</th>\n",
       "      <td>1609468200000</td>\n",
       "      <td>2.042555e+07</td>\n",
       "      <td>16297</td>\n",
       "      <td>29265.71</td>\n",
       "    </tr>\n",
       "    <tr>\n",
       "      <th>35135</th>\n",
       "      <td>1609469100000</td>\n",
       "      <td>1.289710e+07</td>\n",
       "      <td>11411</td>\n",
       "      <td>29194.65</td>\n",
       "    </tr>\n",
       "  </tbody>\n",
       "</table>\n",
       "<p>35136 rows × 4 columns</p>\n",
       "</div>"
      ],
      "text/plain": [
       "           timestamp        volume  trades     price\n",
       "0      1577847600000  1.959652e+06    2811   7228.50\n",
       "1      1577848500000  1.225410e+06    1897   7237.15\n",
       "2      1577849400000  1.469870e+06    2163   7221.27\n",
       "3      1577850300000  1.012436e+06    1466   7225.01\n",
       "4      1577851200000  1.102373e+06    1985   7219.09\n",
       "...              ...           ...     ...       ...\n",
       "35131  1609465500000  1.821529e+07   16344  29409.99\n",
       "35132  1609466400000  2.177558e+07   16200  29248.69\n",
       "35133  1609467300000  1.474442e+07   13738  29298.86\n",
       "35134  1609468200000  2.042555e+07   16297  29265.71\n",
       "35135  1609469100000  1.289710e+07   11411  29194.65\n",
       "\n",
       "[35136 rows x 4 columns]"
      ]
     },
     "execution_count": 9,
     "metadata": {},
     "output_type": "execute_result"
    }
   ],
   "source": [
    "dados = []\n",
    "for i in getCandlestick(TIMESTART,TIMEEND,DEFAULTPAIR,INTERVAL,1,debug=True):\n",
    "    dados.append({\"timestamp\": i[0], \"volume\": i[3],\"trades\": i[4], \"price\": i[2]})\n",
    "    \n",
    "data = pd.DataFrame(dados)\n",
    "data"
   ]
  },
  {
   "attachments": {},
   "cell_type": "markdown",
   "metadata": {},
   "source": [
    "#### Saing into CSV files"
   ]
  },
  {
   "cell_type": "code",
   "execution_count": 10,
   "metadata": {},
   "outputs": [],
   "source": [
    "data.to_csv(\"dataOld.csv\",index=False)"
   ]
  }
 ],
 "metadata": {
  "kernelspec": {
   "display_name": "tf",
   "language": "python",
   "name": "python3"
  },
  "language_info": {
   "codemirror_mode": {
    "name": "ipython",
    "version": 3
   },
   "file_extension": ".py",
   "mimetype": "text/x-python",
   "name": "python",
   "nbconvert_exporter": "python",
   "pygments_lexer": "ipython3",
   "version": "3.11.9"
  },
  "orig_nbformat": 4
 },
 "nbformat": 4,
 "nbformat_minor": 2
}
